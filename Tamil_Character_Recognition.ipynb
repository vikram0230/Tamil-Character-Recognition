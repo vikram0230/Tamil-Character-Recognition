{
  "nbformat": 4,
  "nbformat_minor": 0,
  "metadata": {
    "colab": {
      "name": "Tamil Character Recognition.ipynb",
      "provenance": [],
      "collapsed_sections": []
    },
    "kernelspec": {
      "name": "python3",
      "display_name": "Python 3"
    },
    "language_info": {
      "name": "python"
    },
    "accelerator": "GPU"
  },
  "cells": [
    {
      "cell_type": "code",
      "metadata": {
        "colab": {
          "base_uri": "https://localhost:8080/"
        },
        "id": "8weaYD5QouNx",
        "outputId": "f5f7f718-4217-42c5-d331-1a491fb14b25"
      },
      "source": [
        "!pip install visualkeras"
      ],
      "execution_count": null,
      "outputs": [
        {
          "output_type": "stream",
          "text": [
            "Collecting visualkeras\n",
            "  Downloading https://files.pythonhosted.org/packages/3c/7d/86ba86f710378e753ed690048710bf917b9121b7c6c5f5b07ec5323c4adc/visualkeras-0.0.1-py3-none-any.whl\n",
            "Requirement already satisfied: pillow>=6.2.0 in /usr/local/lib/python3.7/dist-packages (from visualkeras) (7.0.0)\n",
            "Installing collected packages: visualkeras\n",
            "Successfully installed visualkeras-0.0.1\n"
          ],
          "name": "stdout"
        }
      ]
    },
    {
      "cell_type": "code",
      "metadata": {
        "id": "T6uJoZCMDNJE"
      },
      "source": [
        "from google.colab import files\n",
        "from zipfile import ZipFile\n",
        "import matplotlib.pyplot as plt\n",
        "import os\n",
        "import tensorflow as tf\n",
        "import keras\n",
        "import visualkeras\n",
        "from keras.preprocessing.image import ImageDataGenerator\n",
        "from keras.layers import Dense,Flatten,MaxPool2D,Conv2D,Dropout,GlobalAveragePooling2D,BatchNormalization,MaxPooling2D\n",
        "from keras.losses import binary_crossentropy,categorical_crossentropy\n",
        "from keras.models import Model,Sequential\n",
        "from keras.optimizers import RMSprop"
      ],
      "execution_count": null,
      "outputs": []
    },
    {
      "cell_type": "code",
      "metadata": {
        "colab": {
          "resources": {
            "http://localhost:8080/nbextensions/google.colab/files.js": {
              "data": "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",
              "ok": true,
              "headers": [
                [
                  "content-type",
                  "application/javascript"
                ]
              ],
              "status": 200,
              "status_text": ""
            }
          },
          "base_uri": "https://localhost:8080/",
          "height": 72
        },
        "id": "cg41j5E6DYER",
        "outputId": "d7f5f933-3618-4940-bdcf-a1141441b5ac"
      },
      "source": [
        "files.upload()"
      ],
      "execution_count": null,
      "outputs": [
        {
          "output_type": "display_data",
          "data": {
            "text/html": [
              "\n",
              "     <input type=\"file\" id=\"files-1c062658-2776-422c-a62a-5d03da144bdb\" name=\"files[]\" multiple disabled\n",
              "        style=\"border:none\" />\n",
              "     <output id=\"result-1c062658-2776-422c-a62a-5d03da144bdb\">\n",
              "      Upload widget is only available when the cell has been executed in the\n",
              "      current browser session. Please rerun this cell to enable.\n",
              "      </output>\n",
              "      <script src=\"/nbextensions/google.colab/files.js\"></script> "
            ],
            "text/plain": [
              "<IPython.core.display.HTML object>"
            ]
          },
          "metadata": {
            "tags": []
          }
        },
        {
          "output_type": "stream",
          "text": [
            "Saving images.zip to images.zip\n"
          ],
          "name": "stdout"
        }
      ]
    },
    {
      "cell_type": "code",
      "metadata": {
        "id": "qzeHe8j7DaiN"
      },
      "source": [
        "# Extract zipfile\n",
        "def extract_zip(fileName, targetFolder):\n",
        "    with ZipFile(fileName) as zipref:\n",
        "        zipref.extractall(targetFolder)\n",
        "\n",
        "extract_zip('/content/images.zip', '/content')"
      ],
      "execution_count": null,
      "outputs": []
    },
    {
      "cell_type": "code",
      "metadata": {
        "id": "lI1eeFQ6ElZ0"
      },
      "source": [
        "BASE_DIR = '/content/images/'\n",
        "\n",
        "train_dir = BASE_DIR + 'train/'\n",
        "val_dir = BASE_DIR + 'val/'\n",
        "\n",
        "letters = ['a', 'aa', 'e', 'ee', 'u', 'uu', 'ea', 'eaa', 'i', 'o', 'oo']\n",
        "\n",
        "NUM_CLASSES = len(letters)"
      ],
      "execution_count": null,
      "outputs": []
    },
    {
      "cell_type": "code",
      "metadata": {
        "id": "3Jlvm5H0lzwz"
      },
      "source": [
        "# from skimage.transform import resize\n",
        "# import matplotlib\n",
        "# import scipy.misc\n",
        "\n",
        "# image = plt.imread('/content/images/train/a/u16_000t04.tiff')\n",
        "# plt.imshow(image)\n",
        "# print(image.shape)\n",
        "\n",
        "# img_gray = rgb2gray(image[:,:,:3])\n",
        "# print(img_gray.shape)\n",
        "# image_res = resize(img_gray, (64,64))\n",
        "# print(image_res.shape)\n",
        "# plt.axis('off')\n",
        "# plt.imshow(image)\n",
        "# plt.savefig('test.png')\n",
        "# im = Image.fromarray(image_res)\n",
        "# im.save(\"aaaa.png\")\n",
        "\n",
        "\n",
        "# img_gray = rgb2gray(image[:,:,:3])\n",
        "# scipy.misc.toimage(img_gray).save('outfile.jpg')\n",
        "\n",
        "\n",
        "# matplotlib.image.imsave('name.png', image_res, cmap='gray')\n",
        "\n",
        "# print(img_gray.shape)\n",
        "# plt.imshow(img_gray, cmap='gray')"
      ],
      "execution_count": null,
      "outputs": []
    },
    {
      "cell_type": "code",
      "metadata": {
        "id": "AZ1uZheczz7j",
        "colab": {
          "base_uri": "https://localhost:8080/",
          "height": 282
        },
        "outputId": "a26bf0f9-70b7-4f08-81cc-bf9795f9ed39"
      },
      "source": [
        "img = plt.imread(train_dir + 'a/u16_000t04.jpeg')\n",
        "print(img.shape)\n",
        "plt.axis('off')\n",
        "plt.imshow(img)"
      ],
      "execution_count": null,
      "outputs": [
        {
          "output_type": "stream",
          "text": [
            "(64, 64, 3)\n"
          ],
          "name": "stdout"
        },
        {
          "output_type": "execute_result",
          "data": {
            "text/plain": [
              "<matplotlib.image.AxesImage at 0x7f0863c81cd0>"
            ]
          },
          "metadata": {
            "tags": []
          },
          "execution_count": 16
        },
        {
          "output_type": "display_data",
          "data": {
            "image/png": "[encoded data removed]",
            "text/plain": [
              "<Figure size 432x288 with 1 Axes>"
            ]
          },
          "metadata": {
            "tags": [],
            "needs_background": "light"
          }
        }
      ]
    },
    {
      "cell_type": "code",
      "metadata": {
        "id": "K9eq31SXg5uX"
      },
      "source": [
        "train_datagen = ImageDataGenerator(\n",
        "    rotation_range=20, \n",
        "    width_shift_range=0.1, \n",
        "    height_shift_range=0.1, \n",
        "    shear_range=0.1, \n",
        "    zoom_range=0.1,  \n",
        "    rescale=1/255,\n",
        ")\n",
        "\n",
        "val_datagen = ImageDataGenerator(\n",
        "    rescale=1/255\n",
        ")"
      ],
      "execution_count": null,
      "outputs": []
    },
    {
      "cell_type": "code",
      "metadata": {
        "colab": {
          "base_uri": "https://localhost:8080/"
        },
        "id": "znOi6AQYTXpW",
        "outputId": "37c37fc5-4a90-43fa-bbf3-c2cf57439627"
      },
      "source": [
        "train = train_datagen.flow_from_directory(train_dir, target_size=(64,64))\n",
        "validation = val_datagen.flow_from_directory(val_dir, target_size=(64,64))"
      ],
      "execution_count": null,
      "outputs": [
        {
          "output_type": "stream",
          "text": [
            "Found 2420 images belonging to 11 classes.\n",
            "Found 579 images belonging to 11 classes.\n"
          ],
          "name": "stdout"
        }
      ]
    },
    {
      "cell_type": "code",
      "metadata": {
        "colab": {
          "base_uri": "https://localhost:8080/",
          "height": 282
        },
        "id": "eWurby9-cxDv",
        "outputId": "2caf8b4c-1b91-4ec0-8f36-199c73a7c9eb"
      },
      "source": [
        "img = plt.imread(train.directory + train.filenames[100])\n",
        "print(img.shape)\n",
        "plt.axis('off')\n",
        "plt.imshow(img)"
      ],
      "execution_count": null,
      "outputs": [
        {
          "output_type": "stream",
          "text": [
            "(64, 64, 3)\n"
          ],
          "name": "stdout"
        },
        {
          "output_type": "execute_result",
          "data": {
            "text/plain": [
              "<matplotlib.image.AxesImage at 0x7f0861c6e110>"
            ]
          },
          "metadata": {
            "tags": []
          },
          "execution_count": 19
        },
        {
          "output_type": "display_data",
          "data": {
            "image/png": "[encoded data removed]",
            "text/plain": [
              "<Figure size 432x288 with 1 Axes>"
            ]
          },
          "metadata": {
            "tags": [],
            "needs_background": "light"
          }
        }
      ]
    },
    {
      "cell_type": "code",
      "metadata": {
        "id": "M1ch-65Hi4W2"
      },
      "source": [
        "ckp_filepath = 'trained-models/model'\n",
        "model_checkpoint = tf.keras.callbacks.ModelCheckpoint(filepath=ckp_filepath, \n",
        "                                                      monitor='val_mae', \n",
        "                                                      mode='auto',\n",
        "                                                      save_best_only=True, \n",
        "                                                      save_weights_only=True)\n",
        "\n",
        "reduce_lr = tf.keras.callbacks.ReduceLROnPlateau(factor=0.9, monitor='val_mae', \n",
        "                                                 mode='auto', cooldown=0, \n",
        "                                                 patience=3, verbose=1, min_lr=1e-5)"
      ],
      "execution_count": null,
      "outputs": []
    },
    {
      "cell_type": "code",
      "metadata": {
        "id": "xKmkii97hQg6"
      },
      "source": [
        "keras.backend.clear_session()\n",
        "model = Sequential([\n",
        "  Conv2D(16, 3, padding='same', activation='relu',input_shape=(64,64,3)),\n",
        "  MaxPooling2D(),\n",
        "  Conv2D(32, 3, padding='same', activation='relu'),\n",
        "  MaxPooling2D(),\n",
        "  Conv2D(64, 3, padding='same', activation='relu'),\n",
        "  MaxPooling2D(),\n",
        "  Dropout(0.2),\n",
        "  Conv2D(64, 3, padding='same', activation='relu'),\n",
        "  MaxPooling2D(),\n",
        "  Dropout(0.2),\n",
        "  Conv2D(64, 3, padding='same', activation='relu'),\n",
        "  MaxPooling2D(),\n",
        "  Dropout(0.2),\n",
        "  Conv2D(64, 3, padding='same', activation='relu'),\n",
        "  MaxPooling2D(),\n",
        "  Flatten(),\n",
        "  Dense(512, activation='relu'),\n",
        "  # Dense(128, activation='relu'),\n",
        "  # Dense(64, activation='relu'),\n",
        "  Dense(NUM_CLASSES, activation='softmax')\n",
        "])\n",
        "\n",
        "# visualkeras.layered_view(model, max_xy=700)"
      ],
      "execution_count": null,
      "outputs": []
    },
    {
      "cell_type": "code",
      "metadata": {
        "id": "ifbHPANxPgG0"
      },
      "source": [
        "model.compile(optimizer='adam', loss='categorical_crossentropy', metrics=['acc','mae'])"
      ],
      "execution_count": null,
      "outputs": []
    },
    {
      "cell_type": "code",
      "metadata": {
        "colab": {
          "base_uri": "https://localhost:8080/"
        },
        "id": "04Ek1epthOVf",
        "outputId": "56d1c5d4-6f75-48f1-ffdb-87643c5e406c"
      },
      "source": [
        "history = model.fit(train, epochs=30, validation_data=validation, callbacks=[model_checkpoint, reduce_lr])"
      ],
      "execution_count": null,
      "outputs": [
        {
          "output_type": "stream",
          "text": [
            "Epoch 1/30\n",
            "76/76 [==============================] - 5s 56ms/step - loss: 2.4025 - acc: 0.0686 - mae: 0.1653 - val_loss: 2.3978 - val_acc: 0.0950 - val_mae: 0.1653\n",
            "Epoch 2/30\n",
            "76/76 [==============================] - 4s 50ms/step - loss: 2.3982 - acc: 0.0811 - mae: 0.1653 - val_loss: 2.3968 - val_acc: 0.0950 - val_mae: 0.1653\n",
            "Epoch 3/30\n",
            "76/76 [==============================] - 4s 50ms/step - loss: 2.3559 - acc: 0.1182 - mae: 0.1637 - val_loss: 1.6769 - val_acc: 0.3437 - val_mae: 0.1290\n",
            "Epoch 4/30\n",
            "76/76 [==============================] - 4s 50ms/step - loss: 1.6964 - acc: 0.3733 - mae: 0.1325 - val_loss: 1.1176 - val_acc: 0.5959 - val_mae: 0.0884\n",
            "Epoch 5/30\n",
            "76/76 [==============================] - 4s 50ms/step - loss: 1.2565 - acc: 0.5566 - mae: 0.1057 - val_loss: 0.7290 - val_acc: 0.7461 - val_mae: 0.0610\n",
            "Epoch 6/30\n",
            "76/76 [==============================] - 4s 50ms/step - loss: 0.9203 - acc: 0.6753 - mae: 0.0816 - val_loss: 0.4944 - val_acc: 0.8066 - val_mae: 0.0468\n",
            "Epoch 7/30\n",
            "76/76 [==============================] - 4s 50ms/step - loss: 0.7109 - acc: 0.7576 - mae: 0.0659 - val_loss: 0.3731 - val_acc: 0.8584 - val_mae: 0.0352\n",
            "Epoch 8/30\n",
            "76/76 [==============================] - 4s 50ms/step - loss: 0.6256 - acc: 0.7668 - mae: 0.0571 - val_loss: 0.3320 - val_acc: 0.8705 - val_mae: 0.0317\n",
            "Epoch 9/30\n",
            "76/76 [==============================] - 4s 50ms/step - loss: 0.4856 - acc: 0.8256 - mae: 0.0454 - val_loss: 0.2742 - val_acc: 0.9085 - val_mae: 0.0259\n",
            "Epoch 10/30\n",
            "76/76 [==============================] - 4s 51ms/step - loss: 0.4560 - acc: 0.8365 - mae: 0.0421 - val_loss: 0.1965 - val_acc: 0.9136 - val_mae: 0.0182\n",
            "Epoch 11/30\n",
            "76/76 [==============================] - 4s 51ms/step - loss: 0.3753 - acc: 0.8637 - mae: 0.0349 - val_loss: 0.1835 - val_acc: 0.9309 - val_mae: 0.0191\n",
            "Epoch 12/30\n",
            "76/76 [==============================] - 4s 51ms/step - loss: 0.3414 - acc: 0.8775 - mae: 0.0334 - val_loss: 0.1706 - val_acc: 0.9344 - val_mae: 0.0146\n",
            "Epoch 13/30\n",
            "76/76 [==============================] - 4s 51ms/step - loss: 0.2849 - acc: 0.9029 - mae: 0.0269 - val_loss: 0.1670 - val_acc: 0.9447 - val_mae: 0.0134\n",
            "Epoch 14/30\n",
            "76/76 [==============================] - 4s 51ms/step - loss: 0.2779 - acc: 0.8999 - mae: 0.0261 - val_loss: 0.1214 - val_acc: 0.9603 - val_mae: 0.0132\n",
            "Epoch 15/30\n",
            "76/76 [==============================] - 4s 51ms/step - loss: 0.2298 - acc: 0.9135 - mae: 0.0234 - val_loss: 0.1213 - val_acc: 0.9585 - val_mae: 0.0110\n",
            "Epoch 16/30\n",
            "76/76 [==============================] - 4s 50ms/step - loss: 0.2731 - acc: 0.9114 - mae: 0.0246 - val_loss: 0.0993 - val_acc: 0.9655 - val_mae: 0.0094\n",
            "Epoch 17/30\n",
            "76/76 [==============================] - 4s 50ms/step - loss: 0.2311 - acc: 0.9193 - mae: 0.0219 - val_loss: 0.1227 - val_acc: 0.9482 - val_mae: 0.0114\n",
            "Epoch 18/30\n",
            "76/76 [==============================] - 4s 51ms/step - loss: 0.2120 - acc: 0.9256 - mae: 0.0201 - val_loss: 0.0990 - val_acc: 0.9637 - val_mae: 0.0094\n",
            "Epoch 19/30\n",
            "76/76 [==============================] - 4s 51ms/step - loss: 0.2433 - acc: 0.9169 - mae: 0.0220 - val_loss: 0.1863 - val_acc: 0.9378 - val_mae: 0.0136\n",
            "\n",
            "Epoch 00019: ReduceLROnPlateau reducing learning rate to 0.0009000000427477062.\n",
            "Epoch 20/30\n",
            "76/76 [==============================] - 4s 51ms/step - loss: 0.1851 - acc: 0.9334 - mae: 0.0180 - val_loss: 0.1142 - val_acc: 0.9568 - val_mae: 0.0096\n",
            "Epoch 21/30\n",
            "76/76 [==============================] - 4s 50ms/step - loss: 0.2013 - acc: 0.9286 - mae: 0.0187 - val_loss: 0.1031 - val_acc: 0.9637 - val_mae: 0.0084\n",
            "Epoch 22/30\n",
            "76/76 [==============================] - 4s 50ms/step - loss: 0.1529 - acc: 0.9457 - mae: 0.0149 - val_loss: 0.0998 - val_acc: 0.9585 - val_mae: 0.0102\n",
            "Epoch 23/30\n",
            "76/76 [==============================] - 4s 51ms/step - loss: 0.1627 - acc: 0.9450 - mae: 0.0156 - val_loss: 0.0653 - val_acc: 0.9827 - val_mae: 0.0061\n",
            "Epoch 24/30\n",
            "76/76 [==============================] - 4s 50ms/step - loss: 0.1353 - acc: 0.9489 - mae: 0.0146 - val_loss: 0.0980 - val_acc: 0.9672 - val_mae: 0.0092\n",
            "Epoch 25/30\n",
            "76/76 [==============================] - 4s 51ms/step - loss: 0.1358 - acc: 0.9559 - mae: 0.0133 - val_loss: 0.0889 - val_acc: 0.9775 - val_mae: 0.0076\n",
            "Epoch 26/30\n",
            "76/76 [==============================] - 4s 51ms/step - loss: 0.1582 - acc: 0.9486 - mae: 0.0154 - val_loss: 0.0835 - val_acc: 0.9741 - val_mae: 0.0068\n",
            "\n",
            "Epoch 00026: ReduceLROnPlateau reducing learning rate to 0.0008100000384729356.\n",
            "Epoch 27/30\n",
            "76/76 [==============================] - 4s 50ms/step - loss: 0.1372 - acc: 0.9484 - mae: 0.0136 - val_loss: 0.1055 - val_acc: 0.9706 - val_mae: 0.0084\n",
            "Epoch 28/30\n",
            "76/76 [==============================] - 4s 51ms/step - loss: 0.1075 - acc: 0.9622 - mae: 0.0115 - val_loss: 0.0764 - val_acc: 0.9775 - val_mae: 0.0062\n",
            "Epoch 29/30\n",
            "76/76 [==============================] - 4s 50ms/step - loss: 0.1342 - acc: 0.9553 - mae: 0.0125 - val_loss: 0.1066 - val_acc: 0.9637 - val_mae: 0.0077\n",
            "\n",
            "Epoch 00029: ReduceLROnPlateau reducing learning rate to 0.0007290000503417104.\n",
            "Epoch 30/30\n",
            "76/76 [==============================] - 4s 50ms/step - loss: 0.1384 - acc: 0.9521 - mae: 0.0133 - val_loss: 0.0862 - val_acc: 0.9706 - val_mae: 0.0068\n"
          ],
          "name": "stdout"
        }
      ]
    },
    {
      "cell_type": "code",
      "metadata": {
        "id": "r_enC_9MP__H",
        "colab": {
          "base_uri": "https://localhost:8080/",
          "height": 322
        },
        "outputId": "53effd97-9529-4e3b-d0f0-e8dd4299bb04"
      },
      "source": [
        "acc = history.history['acc']\n",
        "val_acc = history.history['val_acc']\n",
        "loss = history.history['loss']\n",
        "val_loss = history.history['val_loss']\n",
        "mae = history.history['mae']\n",
        "val_mae = history.history['val_mae']\n",
        "epochs = range(len(acc))\n",
        "\n",
        "fig,axes = plt.subplots(nrows=1,ncols=3, figsize=(20,5))\n",
        "\n",
        "axes[0].plot(epochs, acc, 'b', label='Training accuracy')\n",
        "axes[0].plot(epochs, val_acc, 'r', label='Validation accuracy')\n",
        "axes[0].legend(loc=0)\n",
        "\n",
        "axes[1].plot(epochs, loss, 'b', label='Training loss')\n",
        "axes[1].plot(epochs, val_loss, 'r', label='Validation loss')\n",
        "axes[1].legend(loc=0)\n",
        "\n",
        "axes[2].plot(epochs, mae, 'b', label='Training mae')\n",
        "axes[2].plot(epochs, val_mae, 'r', label='Validation mae')\n",
        "axes[2].legend(loc=0)\n",
        "\n",
        "plt.show()"
      ],
      "execution_count": null,
      "outputs": [
        {
          "output_type": "display_data",
          "data": {
            "image/png": "[encoded data removed]",
            "text/plain": [
              "<Figure size 1440x360 with 3 Axes>"
            ]
          },
          "metadata": {
            "tags": [],
            "needs_background": "light"
          }
        }
      ]
    },
    {
      "cell_type": "markdown",
      "metadata": {
        "id": "gLDe3pwMg7YZ"
      },
      "source": [
        "# Prediction"
      ]
    },
    {
      "cell_type": "code",
      "metadata": {
        "colab": {
          "base_uri": "https://localhost:8080/"
        },
        "id": "UpKmter4eMp9",
        "outputId": "26a48109-875b-458d-c343-98b58a16c7ab"
      },
      "source": [
        "prediction = model.predict_generator(train)"
      ],
      "execution_count": null,
      "outputs": [
        {
          "output_type": "stream",
          "text": [
            "/usr/local/lib/python3.7/dist-packages/tensorflow/python/keras/engine/training.py:1905: UserWarning: `Model.predict_generator` is deprecated and will be removed in a future version. Please use `Model.predict`, which supports generators.\n",
            "  warnings.warn('`Model.predict_generator` is deprecated and '\n"
          ],
          "name": "stderr"
        }
      ]
    },
    {
      "cell_type": "code",
      "metadata": {
        "colab": {
          "base_uri": "https://localhost:8080/",
          "height": 265
        },
        "id": "H8jhKfTK18G9",
        "outputId": "d6fe5436-0ccb-4d20-dc64-70daf5181d23"
      },
      "source": [
        "index = 245\n",
        "img = plt.imread(validation.directory + validation.filenames[index])\n",
        "plt.axis('off')\n",
        "plt.imshow(img)\n",
        "print(letters[prediction[index].argmax()])"
      ],
      "execution_count": null,
      "outputs": [
        {
          "output_type": "stream",
          "text": [
            "ea\n"
          ],
          "name": "stdout"
        },
        {
          "output_type": "display_data",
          "data": {
            "image/png": "[encoded data removed]",
            "text/plain": [
              "<Figure size 432x288 with 1 Axes>"
            ]
          },
          "metadata": {
            "tags": [],
            "needs_background": "light"
          }
        }
      ]
    },
    {
      "cell_type": "code",
      "metadata": {
        "id": "R1weKZe81t1l",
        "colab": {
          "base_uri": "https://localhost:8080/"
        },
        "outputId": "f2f4db26-6292-4523-fd54-9c72a5b7f209"
      },
      "source": [
        "model.evaluate(validation)"
      ],
      "execution_count": null,
      "outputs": [
        {
          "output_type": "stream",
          "text": [
            "19/19 [==============================] - 0s 11ms/step - loss: 0.0862 - acc: 0.9706 - mae: 0.0068\n"
          ],
          "name": "stdout"
        },
        {
          "output_type": "execute_result",
          "data": {
            "text/plain": [
              "[0.08624305576086044, 0.9706390500068665, 0.006792436353862286]"
            ]
          },
          "metadata": {
            "tags": []
          },
          "execution_count": 60
        }
      ]
    },
    {
      "cell_type": "code",
      "metadata": {
        "colab": {
          "base_uri": "https://localhost:8080/"
        },
        "id": "eDD_Sa99j5q2",
        "outputId": "c8bd1b30-c659-42ad-e15c-add66732b3a8"
      },
      "source": [
        "model.save('tamil_char_model')"
      ],
      "execution_count": null,
      "outputs": [
        {
          "output_type": "stream",
          "text": [
            "INFO:tensorflow:Assets written to: tamil_char_model/assets\n"
          ],
          "name": "stdout"
        }
      ]
    },
    {
      "cell_type": "markdown",
      "metadata": {
        "id": "ZwQmhUW0ztQA"
      },
      "source": [
        "# TFlite model"
      ]
    },
    {
      "cell_type": "code",
      "metadata": {
        "colab": {
          "base_uri": "https://localhost:8080/"
        },
        "id": "-WKZuk6Uzs1K",
        "outputId": "5d3e1372-3f76-42e7-f3a5-85e502768393"
      },
      "source": [
        "TAMIL_RECOG_MODEL = \"saved_models/tamil_recog\"\n",
        "tf.saved_model.save(model, TAMIL_RECOG_MODEL)"
      ],
      "execution_count": null,
      "outputs": [
        {
          "output_type": "stream",
          "text": [
            "INFO:tensorflow:Assets written to: saved_models/tamil_recog/assets\n"
          ],
          "name": "stdout"
        }
      ]
    },
    {
      "cell_type": "code",
      "metadata": {
        "id": "tTqbA6DWlKes",
        "colab": {
          "base_uri": "https://localhost:8080/"
        },
        "outputId": "3ceded67-9be2-449f-c010-9a68b90179c8"
      },
      "source": [
        "import tensorflow_hub as hub\n",
        "tamil_model = hub.load(TAMIL_RECOG_MODEL)\n",
        "print(flowers_model)"
      ],
      "execution_count": null,
      "outputs": [
        {
          "output_type": "stream",
          "text": [
            "<tensorflow.python.saved_model.load.Loader._recreate_base_user_object.<locals>._UserObject object at 0x7f0863ab31d0>\n"
          ],
          "name": "stdout"
        }
      ]
    },
    {
      "cell_type": "code",
      "metadata": {
        "colab": {
          "base_uri": "https://localhost:8080/"
        },
        "id": "ems1L-661c8P",
        "outputId": "1e63fd30-0dd5-4e98-c687-8d8eeff8dd1b"
      },
      "source": [
        "import numpy as np\n",
        "val_image_batch, val_label_batch = next(iter(validation))\n",
        "true_label_ids = np.argmax(val_label_batch, axis=-1)\n",
        "\n",
        "print(\"Validation batch shape:\", val_image_batch.shape)"
      ],
      "execution_count": null,
      "outputs": [
        {
          "output_type": "stream",
          "text": [
            "Validation batch shape: (32, 64, 64, 3)\n"
          ],
          "name": "stdout"
        }
      ]
    },
    {
      "cell_type": "code",
      "metadata": {
        "colab": {
          "base_uri": "https://localhost:8080/"
        },
        "id": "1ZcXemig1sSV",
        "outputId": "69a45639-02f0-4e2c-fd21-d86985ca8362"
      },
      "source": [
        "tf_model_predictions = tamil_model(val_image_batch)\n",
        "print(\"Prediction results shape:\", tf_model_predictions.shape)"
      ],
      "execution_count": null,
      "outputs": [
        {
          "output_type": "stream",
          "text": [
            "Prediction results shape: (32, 11)\n"
          ],
          "name": "stdout"
        }
      ]
    },
    {
      "cell_type": "code",
      "metadata": {
        "id": "QxkvF1aK2wEE"
      },
      "source": [
        "!mkdir \"tflite_models\""
      ],
      "execution_count": null,
      "outputs": []
    },
    {
      "cell_type": "code",
      "metadata": {
        "id": "RLPGiagD2B6X"
      },
      "source": [
        "TFLITE_MODEL = \"tflite_models/tamil_recog.tflite\"\n",
        "TFLITE_QUANT_MODEL = \"tflite_models/tamil_recog_quant.tflite\""
      ],
      "execution_count": null,
      "outputs": []
    },
    {
      "cell_type": "code",
      "metadata": {
        "colab": {
          "base_uri": "https://localhost:8080/"
        },
        "id": "rQ8qbOaC2b4U",
        "outputId": "9ad47a24-8c80-4899-de48-d273bbffdb60"
      },
      "source": [
        "# Get the concrete function from the Keras model.\n",
        "run_model = tf.function(lambda x : flowers_model(x))\n",
        "\n",
        "# Save the concrete function.\n",
        "concrete_func = run_model.get_concrete_function(\n",
        "    tf.TensorSpec(model.inputs[0].shape, model.inputs[0].dtype)\n",
        ")\n",
        "\n",
        "# Convert the model\n",
        "converter = tf.lite.TFLiteConverter.from_concrete_functions([concrete_func])\n",
        "converted_tflite_model = converter.convert()\n",
        "open(TFLITE_MODEL, \"wb\").write(converted_tflite_model)\n",
        "\n",
        "# Convert the model to quantized version with post-training quantization\n",
        "converter = tf.lite.TFLiteConverter.from_concrete_functions([concrete_func])\n",
        "converter.optimizations = [tf.lite.Optimize.OPTIMIZE_FOR_SIZE]\n",
        "tflite_quant_model = converter.convert()\n",
        "open(TFLITE_QUANT_MODEL, \"wb\").write(tflite_quant_model)\n",
        "\n",
        "print(\"TFLite models and their sizes:\")\n",
        "!ls \"tflite_models\" -lh"
      ],
      "execution_count": null,
      "outputs": [
        {
          "output_type": "stream",
          "text": [
            "TFLite models and their sizes:\n",
            "total 876K\n",
            "-rw-r--r-- 1 root root 188K Mar 30 06:38 tamil_recog_quant.tflite\n",
            "-rw-r--r-- 1 root root 686K Mar 30 06:38 tamil_recog.tflite\n"
          ],
          "name": "stdout"
        }
      ]
    }
  ]
}